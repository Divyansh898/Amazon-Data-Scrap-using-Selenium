{
 "cells": [
  {
   "cell_type": "code",
   "execution_count": 240,
   "id": "0b3eaf92",
   "metadata": {},
   "outputs": [],
   "source": [
    "from selenium import webdriver\n",
    "from selenium.common.exceptions import TimeoutException, WebDriverException\n",
    "from selenium.webdriver.chrome.options import Options\n",
    "from selenium.webdriver.common.keys import Keys\n",
    "from selenium.webdriver.support import expected_conditions as EC\n",
    "from selenium.webdriver.common.by import By\n",
    "from selenium.webdriver.support.wait import WebDriverWait\n",
    "from time import sleep\n"
   ]
  },
  {
   "cell_type": "code",
   "execution_count": 241,
   "id": "04e229dc",
   "metadata": {},
   "outputs": [
    {
     "name": "stderr",
     "output_type": "stream",
     "text": [
      "C:\\Users\\Divyansh Varshney\\AppData\\Local\\Temp\\ipykernel_10388\\3970760091.py:1: DeprecationWarning: executable_path has been deprecated, please pass in a Service object\n",
      "  browser = webdriver.Chrome(\"C:\\Program Files\\Driver\\chromedriver.exe\")\n"
     ]
    }
   ],
   "source": [
    "\n",
    "browser = webdriver.Chrome(\"C:\\Program Files\\Driver\\chromedriver.exe\")"
   ]
  },
  {
   "cell_type": "code",
   "execution_count": 242,
   "id": "4fb25870",
   "metadata": {},
   "outputs": [],
   "source": [
    "browser.get('https://www.amazon.in/s?k=bags&crid=2M096C61O4MLT&qid=1653308124&sprefix=ba%2Caps%2C283&ref=sr_pg_1')\n",
    "sleep(5)"
   ]
  },
  {
   "cell_type": "code",
   "execution_count": 243,
   "id": "31f63eb8",
   "metadata": {},
   "outputs": [
    {
     "name": "stdout",
     "output_type": "stream",
     "text": [
      "Scraping page 1\n"
     ]
    }
   ],
   "source": [
    "products = []\n",
    "product_price=[]\n",
    "no_reviews=[]\n",
    "no_ratings=[]\n",
    "url_list=[]\n",
    "for i in range(20):\n",
    "    print('Scraping page', i+1)\n",
    "    \n",
    "    try:\n",
    "        if len(browser.find_elements(By.XPATH,\"//a[@class='a-link-normal s-underline-text s-underline-link-text s-link-style a-text-normal']\"))>0:\n",
    "            urls = browser.find_elements(By.XPATH,\"//a[@class='a-link-normal s-underline-text s-underline-link-text s-link-style a-text-normal']\")\n",
    "            for u in urls:\n",
    "                url_list.append(u.get_property('href'))\n",
    "        else:\n",
    "            url_list.append(\"0\")\n",
    "    except:\n",
    "        url_list.append(\"Not found\")\n",
    "    try:\n",
    "        if len(browser.find_elements(By.XPATH,\"//span[@class='a-size-medium a-color-base a-text-normal']\"))>0:\n",
    "            product = browser.find_elements(By.XPATH,\"//span[@class='a-size-medium a-color-base a-text-normal']\")\n",
    "            for p in product:\n",
    "                products.append(p.text)\n",
    "        else:\n",
    "            products.append(\"Not found\")\n",
    "    except:\n",
    "        products.append(\"Not found\")\n",
    "    \n",
    "    try:\n",
    "        if len(browser.find_elements(By.XPATH,\".//span[@class='a-price-whole']\"))>0:\n",
    "            prices= browser.find_elements(By.XPATH,\".//span[@class='a-price-whole']\")\n",
    "            for price in prices:\n",
    "                product_price.append(price.text)\n",
    "        else:\n",
    "            product_price.append(\"Not found\")\n",
    "    except:\n",
    "        product_price.append(\"Not found\")\n",
    "    try:\n",
    "        if len(browser.find_elements(By.XPATH,\".//span[@class='a-size-base s-underline-text']\"))>0:\n",
    "            reviews = browser.find_elements(By.XPATH,\".//span[@class='a-size-base s-underline-text']\")\n",
    "            for review in reviews:\n",
    "                no_reviews.append(review.text)\n",
    "        else:\n",
    "            no_reviews.append(\"0\")\n",
    "    except:\n",
    "        no_reviews.append(\"0\")\n",
    "    try:\n",
    "        if len(browser.find_elements(By.XPATH,\"//span[@class='a-icon-alt']\"))>0:\n",
    "            ratings = browser.find_elements(By.XPATH,\"//span[@class='a-icon-alt']\")\n",
    "            for rating in ratings:\n",
    "                # print('the length is===>', len(review.text), review.text)\n",
    "                no_ratings.append(rating.get_attribute('textContent'))\n",
    "                \n",
    "        else:\n",
    "            no_ratings.append(\"0\")\n",
    "    except:\n",
    "        no_ratings.append(\"0\")\n",
    "    try:\n",
    "        button = browser.find_element(By.XPATH, \"//a[@class='s-pagination-item s-pagination-next s-pagination-button s-pagination-separator']\")\n",
    "        button.click()\n",
    "        sleep(2)\n",
    "    except:\n",
    "        break\n",
    "    "
   ]
  },
  {
   "cell_type": "code",
   "execution_count": 244,
   "id": "98ee23f4",
   "metadata": {},
   "outputs": [
    {
     "name": "stdout",
     "output_type": "stream",
     "text": [
      "40\n",
      "36\n",
      "43\n",
      "24\n",
      "34\n"
     ]
    }
   ],
   "source": [
    "nrate=[]\n",
    "for i in no_ratings:\n",
    "    p=i.split(\" \")\n",
    "    nrate.append(p[0])\n",
    "print(len(nrate))\n",
    "print(len(no_reviews))\n",
    "print(len(product_price))\n",
    "print(len(products))\n",
    "print(len(url_list))"
   ]
  },
  {
   "cell_type": "code",
   "execution_count": 245,
   "id": "888092bd",
   "metadata": {},
   "outputs": [],
   "source": [
    "descr=[]\n",
    "desc=[]\n",
    "Manufacturer=[]\n",
    "asin=[]\n",
    "for i in range (len(url_list)):\n",
    "    try:\n",
    "        browser.get(url_list[i])\n",
    "        print(\"Urls fetch\",i+1)\n",
    "        sleep(2)\n",
    "        try:\n",
    "            asi = WebDriverWait(browser, 20).until(EC.visibility_of_element_located((By.XPATH, \"//th[contains(., 'ASIN')]//following::td[@class='a-size-base prodDetAttrValue']\"))).text\n",
    "            asin.append(asi)\n",
    "        except:\n",
    "            asin.append(\"Not found\")\n",
    "        try:\n",
    "            Manu = WebDriverWait(browser, 20).until(EC.visibility_of_element_located((By.XPATH, \"//th[contains(., 'Manufacturer')]//following::td[@class='a-size-base prodDetAttrValue']\"))).text\n",
    "            Manufacturer.append(Manu)\n",
    "        except:\n",
    "            Manufacturer.append(\"Not found\")\n",
    "        try:\n",
    "            if len(browser.find_elements(By.XPATH,\"//div[@id='feature-bullets']//span[@class='a-list-item']\"))>0:\n",
    "                des = browser.find_elements(By.XPATH,\"//div[@id='feature-bullets']//span[@class='a-list-item']\")\n",
    "                for d in des:\n",
    "                    desc.append(d.get_attribute('textContent'))\n",
    "                descr.append(desc)\n",
    "                desc=[]\n",
    "\n",
    "            else:\n",
    "                descr.append([])\n",
    "        except:\n",
    "            descr.append([])\n",
    "    except:\n",
    "        asin.append(\"Not found\")\n",
    "        Manufacturer.append(\"Not found\")\n",
    "        descr.append([])\n",
    "        \n",
    "    \n",
    "    \n",
    "    "
   ]
  },
  {
   "cell_type": "code",
   "execution_count": 246,
   "id": "0a184042",
   "metadata": {},
   "outputs": [],
   "source": [
    "print(len(asin))\n",
    "print(len(Manufacturer))\n",
    "print(len(descr))\n"
   ]
  },
  {
   "cell_type": "code",
   "execution_count": 247,
   "id": "554a4d52",
   "metadata": {},
   "outputs": [],
   "source": [
    "import pandas as pd\n",
    "\n",
    "\n",
    "dict = {'Product_name': products, 'Product_Price': product_price, 'No. of Reviews':no_reviews,'Rating':nrate,'Url of the product':url_list ,'Description of the product':descr ,'Manufacturer':Manufacturer, 'Asin':asin}  \n",
    "       \n",
    "df = pd.DataFrame(dict) \n",
    "    \n",
    "df.to_csv('ProductData.csv') \n",
    "\n",
    "\n"
   ]
  },
  {
   "cell_type": "code",
   "execution_count": null,
   "id": "1052dcb6",
   "metadata": {},
   "outputs": [],
   "source": []
  },
  {
   "cell_type": "code",
   "execution_count": null,
   "id": "06c9b14e",
   "metadata": {},
   "outputs": [],
   "source": []
  },
  {
   "cell_type": "code",
   "execution_count": null,
   "id": "f097e33d",
   "metadata": {},
   "outputs": [],
   "source": []
  },
  {
   "cell_type": "code",
   "execution_count": null,
   "id": "7cc5fe61",
   "metadata": {},
   "outputs": [],
   "source": []
  },
  {
   "cell_type": "code",
   "execution_count": null,
   "id": "3a411e72",
   "metadata": {},
   "outputs": [],
   "source": []
  },
  {
   "cell_type": "code",
   "execution_count": null,
   "id": "f9c7378d",
   "metadata": {},
   "outputs": [],
   "source": []
  },
  {
   "cell_type": "code",
   "execution_count": null,
   "id": "58a9a377",
   "metadata": {},
   "outputs": [],
   "source": []
  },
  {
   "cell_type": "code",
   "execution_count": null,
   "id": "f03f1e84",
   "metadata": {},
   "outputs": [],
   "source": []
  },
  {
   "cell_type": "code",
   "execution_count": null,
   "id": "a5c13498",
   "metadata": {},
   "outputs": [],
   "source": []
  }
 ],
 "metadata": {
  "kernelspec": {
   "display_name": "Python 3 (ipykernel)",
   "language": "python",
   "name": "python3"
  },
  "language_info": {
   "codemirror_mode": {
    "name": "ipython",
    "version": 3
   },
   "file_extension": ".py",
   "mimetype": "text/x-python",
   "name": "python",
   "nbconvert_exporter": "python",
   "pygments_lexer": "ipython3",
   "version": "3.9.13"
  }
 },
 "nbformat": 4,
 "nbformat_minor": 5
}
